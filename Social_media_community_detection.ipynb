{
 "cells": [
  {
   "cell_type": "code",
   "execution_count": 1,
   "metadata": {
    "id": "G66heGuGkSgu"
   },
   "outputs": [],
   "source": [
    "import networkx as nx\n",
    "import numpy as np\n",
    "import matplotlib.pyplot as plt"
   ]
  },
  {
   "cell_type": "code",
   "execution_count": 2,
   "metadata": {
    "colab": {
     "base_uri": "https://localhost:8080/"
    },
    "id": "aRAxCCh4ELvf",
    "outputId": "caf5d78f-68a5-456e-f6bc-d6c38bb6ae49"
   },
   "outputs": [
    {
     "name": "stdout",
     "output_type": "stream",
     "text": [
      "Looking in indexes: https://pypi.org/simple, https://us-python.pkg.dev/colab-wheels/public/simple/\n",
      "Collecting twitter\n",
      "  Downloading twitter-1.19.6-py2.py3-none-any.whl (50 kB)\n",
      "\u001b[K     |████████████████████████████████| 50 kB 3.2 MB/s \n",
      "\u001b[?25hRequirement already satisfied: certifi in /usr/local/lib/python3.7/dist-packages (from twitter) (2022.9.24)\n",
      "Installing collected packages: twitter\n",
      "Successfully installed twitter-1.19.6\n"
     ]
    }
   ],
   "source": [
    "\n",
    "import json\n",
    "import pandas as pd\n",
    "from twitter import *\n",
    "\n",
    "import sys\n",
    "import time\n"
   ]
  },
  {
   "cell_type": "code",
   "execution_count": null,
   "metadata": {},
   "outputs": [],
   "source": [
    "from twitter.api import TwitterHTTPError\n",
    "from urllib.error import URLError\n",
    "from http.client import BadStatusLine\n",
    "\n",
    "from functools import partial\n",
    "\n",
    "from sys import maxsize\n",
    "import tweepy"
   ]
  },
  {
   "cell_type": "code",
   "execution_count": 3,
   "metadata": {
    "id": "75CCK1EUEsXl"
   },
   "outputs": [],
   "source": [
    "# Credentials for the API\n",
    "\n",
    "bearerToken = \"AAAAAAAAAAAAAAAAAAAAAG5YfgEAAAAA76uRa23UrTTLBLR8%2FS51mo7Tj1o%3DuZihLLkXct1A2oDOCf6GH1G15p8C7odnSLciTdqBjH7EaODrVR\"\n",
    "api_key = \"XRt3DZEZQBqLYxb7w5JCjxFdm\"\n",
    "api_key_secret = \"aBcD4zpMdSKQkncx3Y0l7CQiOJ3IitRtIWUQojOS4hWvrqYu2x\"\n",
    "access_token = \"1473981724149239809-VKghKWIIDKabUY51XW7lbAL2vQyZJk\"\n",
    "access_token_secret = \"wlU6OKaLESrRsIqaieHXEVnNU9v4ktS7oZheNp2hFzDSJ\"\n",
    "auth = OAuth(access_token, access_token_secret,api_key, api_key_secret)\n",
    "\n",
    "t = Twitter(auth=auth)\n"
   ]
  },
  {
   "cell_type": "code",
   "execution_count": 4,
   "metadata": {
    "id": "skjFZOITEpTC"
   },
   "outputs": [],
   "source": [
    "# User interested\n",
    "popular_user =  'imVkohli'"
   ]
  },
  {
   "cell_type": "code",
   "execution_count": 6,
   "metadata": {
    "id": "LW_EkYV4IPpK"
   },
   "outputs": [],
   "source": [
    "def get_ids_friends_followers(twitter_api, screen_name=None, user_id=None,\n",
    "                                friends_limit=maxsize, followers_limit=maxsize):\n",
    "    \n",
    "    \n",
    "    # You can also do this with a function closure.\n",
    "    get_friends_ids = partial(make_twitter_requests, twitter_api.friends.ids,count=5000)\n",
    "    \n",
    "    get_followers_ids = partial(make_twitter_requests, twitter_api.followers.ids,count=5000)\n",
    "    \n",
    "    friends_ids = []\n",
    "    followers_ids = []\n",
    "    # API to store the friends_followers_ids\n",
    "    for twitter_api_func, limit, ids, label in [\n",
    "            [get_friends_ids, friends_limit, friends_ids, \"friends\"],\n",
    "            [get_followers_ids, followers_limit, followers_ids, \"followers\"]\n",
    "            ]:\n",
    "        \n",
    "       \n",
    "        if limit == 0: \n",
    "            continue\n",
    "        \n",
    "        cursor = -1\n",
    "        while cursor != 0: \n",
    "            \n",
    "            # Use make_twitter_request via the partially bound callable...\n",
    "            if screen_name:\n",
    "                response = twitter_api_func(screen_name=screen_name, cursor=cursor)\n",
    "            else: # user_id\n",
    "                response = twitter_api_func(user_id=user_id, cursor=cursor)\n",
    "                \n",
    "            if response is not None:\n",
    "                ids += response['ids']\n",
    "                cursor = response['next_cursor']\n",
    "                \n",
    "           \n",
    "            \n",
    "            if len(ids) >= limit or response is None:\n",
    "                break\n",
    "                \n",
    "    \n",
    "    return friends_ids[:friends_limit], followers_ids[:followers_limit]"
   ]
  },
  {
   "cell_type": "code",
   "execution_count": 5,
   "metadata": {
    "id": "p6IX8v_jFVgq"
   },
   "outputs": [],
   "source": [
    "def make_twitter_requests(twitter_api_func, max_errors=10, *args, **kw):\n",
    "    # A function that handles rate limit(429 error) and waits for 15 minutes to\n",
    "    # reset. Returns None for 401 and 404 errors, which requires special handling\n",
    "    def handle_twitter_http_error(e, wait_period=2, sleep_when_rate_limited=True):\n",
    "        \n",
    "        if wait_period > 3600: # Seconds\n",
    "            print('Too many retries. Quitting.', file=sys.stderr)\n",
    "            raise e        \n",
    "        \n",
    "        \n",
    "        if e.e.code == 401:\n",
    "            print('Encountered 401 Error (Not Authorized)', file=sys.stderr)\n",
    "            return None\n",
    "        elif e.e.code == 404:\n",
    "            print('Encountered 404 Error (Not Found)', file=sys.stderr)\n",
    "            return None\n",
    "        elif e.e.code == 429:\n",
    "            print('Encountered 429 Error (Rate Limit Exceeded)', file=sys.stderr)\n",
    "            if sleep_when_rate_limited:\n",
    "                print(\"Retrying in 15 minutes...ZzZ...\", file=sys.stderr)\n",
    "                sys.stderr.flush()\n",
    "                time.sleep(60*15 + 5)\n",
    "                print('...ZzZ...Awake now and trying again.', file=sys.stderr)\n",
    "                return 2\n",
    "            else:\n",
    "                raise e # Caller must handle the rate limiting issue\n",
    "        elif e.e.code in (500, 502, 503, 504):\n",
    "            print('Encountered %i Error. Retrying in %i seconds' % (e.e.code, wait_period), file=sys.stderr)\n",
    "            time.sleep(wait_period)\n",
    "            wait_period *= 1.5\n",
    "            return wait_period\n",
    "        else:\n",
    "            raise e\n",
    "    # End of nested helper function\n",
    "\n",
    "    wait_period = 2\n",
    "    error_count = 0\n",
    "    while True:\n",
    "        try:\n",
    "            return twitter_api_func(*args, **kw)\n",
    "        except TwitterHTTPError as e:\n",
    "            error_count = 0\n",
    "            wait_period = handle_twitter_http_error(e, wait_period)\n",
    "            if wait_period is None:\n",
    "                return\n",
    "        except URLError as e:\n",
    "            error_count += 1\n",
    "            print(\"URLError encountered. Continuing.\", file=sys.stderr)\n",
    "            if error_count > max_errors:\n",
    "                print(\"Too many consecutive errors...bailing out.\", file=sys.stderr)\n",
    "                raise\n",
    "        except BadStatusLine as e:\n",
    "            error_count += 1\n",
    "            print >> sys.stderr, \"BadStatusLine encountered. Continuing.\"\n",
    "            if error_count > max_errors:\n",
    "                print(\"Too many consecutive errors...bailing out.\", file=sys.stderr)\n",
    "                raise"
   ]
  },
  {
   "cell_type": "code",
   "execution_count": 7,
   "metadata": {
    "id": "1pVaXWvAIQkQ"
   },
   "outputs": [],
   "source": [
    "def crawl_followers(twitter_api, screen_name, limit=1000000, depth=2):\n",
    "    \n",
    "    # Obtaining the screen id \n",
    "    seed_id = str(twitter_api.users.show(screen_name=screen_name)['id'])\n",
    "    \n",
    "    friend_queue, next_queue = get_ids_friends_followers(twitter_api, user_id=seed_id,\n",
    "                        friends_limit=limit, followers_limit=limit)\n",
    "    \n",
    "    # Store followers in a dict\n",
    "    user_followers = dict()\n",
    "    follower_list = [str(x) for x in next_queue]\n",
    "    \n",
    "    for line1 in follower_list:\n",
    "        \n",
    "        key = seed_id\n",
    "        user_followers.setdefault(key,[]).append(line1)\n",
    "    \n",
    "    # Store friends in another dictinary\n",
    "    user_friends = dict()\n",
    "    friend_list = [str(x) for x in friend_queue]\n",
    "    \n",
    "    for line2 in friend_list:\n",
    "        # \n",
    "        key = seed_id\n",
    "    \n",
    "        #user_followers[key].append(line)\n",
    "        user_friends.setdefault(key,[]).append(line2)\n",
    "    \n",
    "    d = 1\n",
    "    while d < depth:\n",
    "        \n",
    "        d += 1\n",
    "        \n",
    "        # Reset the next_queue so that we can start building up the next level of followers-of-followers\n",
    "        (queue, next_queue) = (next_queue, [])\n",
    "        \n",
    "        # Loop through the current level of followers\n",
    "        for fid in queue:\n",
    "            friendid_queue, follower_ids = get_ids_friends_followers(twitter_api, user_id=fid, friends_limit=limit, followers_limit=limit)\n",
    "\n",
    "            # Store followers in an object\n",
    "            follower_ids_list = [str(x) for x in follower_ids]\n",
    "\n",
    "            for line3 in follower_ids_list:\n",
    "                # here define what key is, for example,\n",
    "                key = fid\n",
    "                #user_followers[key].append(line)\n",
    "                user_followers.setdefault(key,[]).append(line3)\n",
    "\n",
    "            # Store friends in an object\n",
    "            friendsid_list = [str(x) for x in friendid_queue]\n",
    "    \n",
    "            for line4 in friendsid_list:\n",
    "                # here define what key is, for example,\n",
    "                key = fid\n",
    "                user_friends.setdefault(key,[]).append(line4)\n",
    "        \n",
    "            # Extending the list\n",
    "            next_queue += follower_ids\n",
    "            friend_queue += friendid_queue\n",
    "            \n",
    "    return user_friends, user_followers "
   ]
  },
  {
   "cell_type": "code",
   "execution_count": 8,
   "metadata": {
    "colab": {
     "base_uri": "https://localhost:8080/"
    },
    "id": "X7YFkZokIRF4",
    "outputId": "71af8dd4-4787-47b1-d08d-28a043d1413c"
   },
   "outputs": [
    {
     "metadata": {
      "tags": null
     },
     "name": "stdout",
     "output_type": "stream",
     "text": [
      "Fetched 65 total friends ids for 71201743\n",
      "Fetched 5000 total followers ids for 71201743\n",
      "Fetched 6 total friends ids for 1583215420198326277\n",
      "Fetched 0 total followers ids for 1583215420198326277\n",
      "Fetched 10 total friends ids for 1583215426569490439\n",
      "Fetched 0 total followers ids for 1583215426569490439\n",
      "Fetched 203 total friends ids for 1207613861097951233\n",
      "Fetched 61 total followers ids for 1207613861097951233\n",
      "Fetched 46 total friends ids for 1583214349417488385\n",
      "Fetched 0 total followers ids for 1583214349417488385\n",
      "Fetched 8 total friends ids for 1581978514047246336\n",
      "Fetched 0 total followers ids for 1581978514047246336\n",
      "Fetched 69 total friends ids for 1583203343974932496\n",
      "Fetched 0 total followers ids for 1583203343974932496\n",
      "Fetched 4 total friends ids for 1583213773195821057\n",
      "Fetched 0 total followers ids for 1583213773195821057\n",
      "Fetched 5 total friends ids for 1583214444598788096\n",
      "Fetched 0 total followers ids for 1583214444598788096\n",
      "Fetched 10 total friends ids for 1583214901333561344\n",
      "Fetched 0 total followers ids for 1583214901333561344\n",
      "Fetched 2 total friends ids for 1583214096446418944\n",
      "Fetched 0 total followers ids for 1583214096446418944\n",
      "Fetched 9 total friends ids for 1583208512741552128\n",
      "Fetched 0 total followers ids for 1583208512741552128\n",
      "Fetched 18 total friends ids for 1583213323335524354\n",
      "Fetched 0 total followers ids for 1583213323335524354\n",
      "Fetched 31 total friends ids for 1577032981117427712\n",
      "Fetched 1 total followers ids for 1577032981117427712\n",
      "Fetched 1 total friends ids for 1583213985276473344\n"
     ]
    },
    {
     "metadata": {
      "tags": null
     },
     "name": "stderr",
     "output_type": "stream",
     "text": [
      "Encountered 429 Error (Rate Limit Exceeded)\n",
      "Retrying in 15 minutes...ZzZ...\n"
     ]
    },
    {
     "metadata": {
      "tags": null
     },
     "name": "stdout",
     "output_type": "stream",
     "text": [
      "Fetched 0 total followers ids for 1583213985276473344\n"
     ]
    },
    {
     "metadata": {
      "tags": null
     },
     "name": "stderr",
     "output_type": "stream",
     "text": [
      "...ZzZ...Awake now and trying again.\n"
     ]
    },
    {
     "metadata": {
      "tags": null
     },
     "name": "stdout",
     "output_type": "stream",
     "text": [
      "Fetched 6 total friends ids for 1583213525849190406\n",
      "Fetched 0 total followers ids for 1583213525849190406\n",
      "Fetched 9 total friends ids for 1583212636988063744\n",
      "Fetched 0 total followers ids for 1583212636988063744\n",
      "Fetched 10 total friends ids for 1583214192747839488\n",
      "Fetched 1 total followers ids for 1583214192747839488\n",
      "Fetched 0 total friends ids for 1583214044101726210\n",
      "Fetched 0 total followers ids for 1583214044101726210\n",
      "Fetched 1 total friends ids for 1583213700982390784\n",
      "Fetched 0 total followers ids for 1583213700982390784\n",
      "Fetched 15 total friends ids for 1583212552019918853\n",
      "Fetched 1 total followers ids for 1583212552019918853\n",
      "Fetched 4 total friends ids for 1583214054373744643\n",
      "Fetched 0 total followers ids for 1583214054373744643\n",
      "Fetched 17 total friends ids for 1583212631024111617\n",
      "Fetched 0 total followers ids for 1583212631024111617\n",
      "Fetched 62 total friends ids for 1145154431995936768\n",
      "Fetched 0 total followers ids for 1145154431995936768\n",
      "Fetched 3 total friends ids for 1583213707798061058\n",
      "Fetched 0 total followers ids for 1583213707798061058\n",
      "Fetched 1 total friends ids for 1583212958125101058\n",
      "Fetched 0 total followers ids for 1583212958125101058\n",
      "Fetched 11 total friends ids for 1583213184517038085\n",
      "Fetched 0 total followers ids for 1583213184517038085\n",
      "Fetched 12 total friends ids for 1583212735566733312\n",
      "Fetched 0 total followers ids for 1583212735566733312\n",
      "Fetched 55 total friends ids for 1583211115374600192\n",
      "Fetched 1 total followers ids for 1583211115374600192\n",
      "Fetched 32 total friends ids for 1583212574899720192\n",
      "Fetched 0 total followers ids for 1583212574899720192\n"
     ]
    },
    {
     "metadata": {
      "tags": null
     },
     "name": "stderr",
     "output_type": "stream",
     "text": [
      "Encountered 429 Error (Rate Limit Exceeded)\n",
      "Retrying in 15 minutes...ZzZ...\n",
      "...ZzZ...Awake now and trying again.\n"
     ]
    },
    {
     "metadata": {
      "tags": null
     },
     "name": "stdout",
     "output_type": "stream",
     "text": [
      "Fetched 30 total friends ids for 1583212285283426312\n",
      "Fetched 0 total followers ids for 1583212285283426312\n",
      "Fetched 30 total friends ids for 1583211491192348677\n",
      "Fetched 1 total followers ids for 1583211491192348677\n",
      "Fetched 2 total friends ids for 1583212627819319296\n",
      "Fetched 0 total followers ids for 1583212627819319296\n",
      "Fetched 5 total friends ids for 1583212208858624000\n",
      "Fetched 0 total followers ids for 1583212208858624000\n",
      "Fetched 0 total friends ids for 1583212166877937668\n",
      "Fetched 0 total followers ids for 1583212166877937668\n",
      "Fetched 19 total friends ids for 1583212220670173184\n",
      "Fetched 0 total followers ids for 1583212220670173184\n",
      "Fetched 49 total friends ids for 1583211050568388608\n",
      "Fetched 0 total followers ids for 1583211050568388608\n",
      "Fetched 1 total friends ids for 1583212869537042434\n",
      "Fetched 0 total followers ids for 1583212869537042434\n",
      "Fetched 4815 total friends ids for 1518786002772451332\n",
      "Fetched 141 total followers ids for 1518786002772451332\n",
      "Fetched 26 total friends ids for 1583210967374110722\n",
      "Fetched 1 total followers ids for 1583210967374110722\n",
      "Fetched 1 total friends ids for 1583212224633458689\n",
      "Fetched 0 total followers ids for 1583212224633458689\n",
      "Fetched 11 total friends ids for 1583211993434972160\n",
      "Fetched 0 total followers ids for 1583211993434972160\n",
      "Fetched 23 total friends ids for 1583210221689745408\n",
      "Fetched 0 total followers ids for 1583210221689745408\n",
      "Fetched 2 total friends ids for 1583212004126253057\n",
      "Fetched 0 total followers ids for 1583212004126253057\n",
      "Fetched 15 total friends ids for 1516572747790381056\n",
      "Fetched 0 total followers ids for 1516572747790381056\n"
     ]
    },
    {
     "metadata": {
      "tags": null
     },
     "name": "stderr",
     "output_type": "stream",
     "text": [
      "Encountered 429 Error (Rate Limit Exceeded)\n",
      "Retrying in 15 minutes...ZzZ...\n",
      "...ZzZ...Awake now and trying again.\n"
     ]
    },
    {
     "metadata": {
      "tags": null
     },
     "name": "stdout",
     "output_type": "stream",
     "text": [
      "Fetched 1 total friends ids for 1583211808537874433\n",
      "Fetched 0 total followers ids for 1583211808537874433\n",
      "Fetched 2 total friends ids for 1583211994689462278\n",
      "Fetched 0 total followers ids for 1583211994689462278\n",
      "Fetched 7 total friends ids for 1581360976598794247\n",
      "Fetched 0 total followers ids for 1581360976598794247\n",
      "Fetched 6 total friends ids for 1583212043561324546\n",
      "Fetched 1 total followers ids for 1583212043561324546\n",
      "Fetched 84 total friends ids for 1583209355050098695\n",
      "Fetched 1 total followers ids for 1583209355050098695\n",
      "Fetched 2 total friends ids for 1583212075182006272\n",
      "Fetched 0 total followers ids for 1583212075182006272\n",
      "Fetched 6 total friends ids for 1583211851281829894\n",
      "Fetched 0 total followers ids for 1583211851281829894\n",
      "Fetched 9 total friends ids for 1583211242029654016\n",
      "Fetched 0 total followers ids for 1583211242029654016\n",
      "Fetched 22 total friends ids for 1260298372356780032\n",
      "Fetched 0 total followers ids for 1260298372356780032\n",
      "Fetched 103 total friends ids for 1583206969384398849\n",
      "Fetched 0 total followers ids for 1583206969384398849\n",
      "Fetched 43 total friends ids for 1583209126171381761\n",
      "Fetched 1 total followers ids for 1583209126171381761\n",
      "Fetched 4 total friends ids for 1583211207502475265\n",
      "Fetched 0 total followers ids for 1583211207502475265\n",
      "Fetched 4 total friends ids for 1583210837707087872\n",
      "Fetched 0 total followers ids for 1583210837707087872\n",
      "Fetched 0 total friends ids for 1583210545586397184\n",
      "Fetched 0 total followers ids for 1583210545586397184\n",
      "Fetched 6 total friends ids for 1583210480461414400\n",
      "Fetched 1 total followers ids for 1583210480461414400\n"
     ]
    },
    {
     "metadata": {
      "tags": null
     },
     "name": "stderr",
     "output_type": "stream",
     "text": [
      "Encountered 429 Error (Rate Limit Exceeded)\n",
      "Retrying in 15 minutes...ZzZ...\n",
      "...ZzZ...Awake now and trying again.\n"
     ]
    },
    {
     "metadata": {
      "tags": null
     },
     "name": "stdout",
     "output_type": "stream",
     "text": [
      "Fetched 48 total friends ids for 1583131981319229441\n",
      "Fetched 0 total followers ids for 1583131981319229441\n",
      "Fetched 307 total friends ids for 1583208056321892352\n",
      "Fetched 1 total followers ids for 1583208056321892352\n",
      "Fetched 6 total friends ids for 1583210765154066432\n",
      "Fetched 0 total followers ids for 1583210765154066432\n",
      "Fetched 2 total friends ids for 1583211137377918976\n",
      "Fetched 0 total followers ids for 1583211137377918976\n",
      "Fetched 2 total friends ids for 1583210773303955456\n",
      "Fetched 0 total followers ids for 1583210773303955456\n",
      "Fetched 29 total friends ids for 1583209313484431360\n",
      "Fetched 0 total followers ids for 1583209313484431360\n",
      "Fetched 9 total friends ids for 1583210449218437121\n",
      "Fetched 0 total followers ids for 1583210449218437121\n",
      "Fetched 34 total friends ids for 1583189203143524353\n",
      "Fetched 0 total followers ids for 1583189203143524353\n",
      "Fetched 21 total friends ids for 1583210506273234946\n",
      "Fetched 0 total followers ids for 1583210506273234946\n",
      "Fetched 21 total friends ids for 1583210296336060416\n",
      "Fetched 0 total followers ids for 1583210296336060416\n",
      "Fetched 3 total friends ids for 1583210777850568704\n",
      "Fetched 0 total followers ids for 1583210777850568704\n",
      "Fetched 4 total friends ids for 1583210151993024524\n",
      "Fetched 0 total followers ids for 1583210151993024524\n",
      "Fetched 32 total friends ids for 1583209609593921536\n",
      "Fetched 0 total followers ids for 1583209609593921536\n",
      "Fetched 6 total friends ids for 1583210174411509760\n",
      "Fetched 0 total followers ids for 1583210174411509760\n"
     ]
    },
    {
     "metadata": {
      "tags": null
     },
     "name": "stderr",
     "output_type": "stream",
     "text": [
      "Encountered 401 Error (Not Authorized)\n",
      "Encountered 401 Error (Not Authorized)\n"
     ]
    },
    {
     "metadata": {
      "tags": null
     },
     "name": "stdout",
     "output_type": "stream",
     "text": [
      "Fetched 0 total friends ids for 1514109244131274753\n",
      "Fetched 0 total followers ids for 1514109244131274753\n"
     ]
    },
    {
     "name": "stderr",
     "output_type": "stream",
     "text": [
      "Encountered 429 Error (Rate Limit Exceeded)\n",
      "Retrying in 15 minutes...ZzZ...\n",
      "...ZzZ...Awake now and trying again.\n"
     ]
    },
    {
     "name": "stdout",
     "output_type": "stream",
     "text": [
      "Fetched 22 total friends ids for 1583209825491881984\n",
      "Fetched 0 total followers ids for 1583209825491881984\n"
     ]
    }
   ],
   "source": [
    "screen_name = popular_user\n",
    "user_friends, user_followers = crawl_followers(t, screen_name, depth=2, limit=75)"
   ]
  },
  {
   "cell_type": "code",
   "execution_count": 10,
   "metadata": {
    "id": "x9B8ULOmIRLu"
   },
   "outputs": [],
   "source": [
    "def get_reciprocal_friends(user_friends, user_followers):\n",
    "    # Get the reciprocal friends : Get all the users who are both\n",
    "    # followers and following\n",
    "    set_friends= set(user_friends)\n",
    "    set_followers = set(user_followers)\n",
    "\n",
    "    # Getting User Id as it is the first element in the dictionary\n",
    "    user_id = next(iter(user_friends))\n",
    "    \n",
    "    # get reciprocal friends at distance-1 from the popular user:\n",
    "    reciprocal_friends = list(set_friends.intersection(set_followers))\n",
    "    return reciprocal_friends # List"
   ]
  },
  {
   "cell_type": "code",
   "execution_count": 11,
   "metadata": {
    "id": "gFeJStB_IRNs"
   },
   "outputs": [],
   "source": [
    "# Merge the data of both lists to just ids to simplify things\n",
    "all_followers_list = []\n",
    "all_friends_List = []\n",
    "\n",
    "for user_id, followers in user_followers.items():\n",
    "    all_followers_list.append(int(user_id))\n",
    "    for fo in range(len(followers)):\n",
    "        all_followers_list.append(int(user_followers.get(user_id)[fo]))\n",
    "        \n",
    "for user_id, friends in user_friends.items():\n",
    "    all_friends_List.append(int(user_id))\n",
    "    for fo in range(len(friends)):\n",
    "        all_friends_List.append(int(user_friends.get(user_id)[fo]))"
   ]
  },
  {
   "cell_type": "code",
   "execution_count": 13,
   "metadata": {
    "colab": {
     "base_uri": "https://localhost:8080/"
    },
    "id": "nMbJcoXXIRTV",
    "outputId": "d4b85a5b-a7fc-4302-d8b9-2afc4ccb7beb"
   },
   "outputs": [
    {
     "name": "stdout",
     "output_type": "stream",
     "text": [
      "Reciprocal Friends:  [1581978514047246336, 1207613861097951233, 1583214444598788096, 1583214349417488385, 1583213773195821057, 1583215420198326277, 1583214901333561344, 1583215426569490439, 1583214096446418944, 1583208512741552128, 1583213323335524354, 1583213525849190406, 1583212552019918853, 1583213184517038085, 1583211994689462278, 1583212285283426312, 1583203343974932496, 1583210151993024524, 1419936059136352269, 287453721, 1581360976598794247, 1583212075182006272, 1583211242029654016, 1583210765154066432, 3399587919, 1318558258286809088, 1583211050568388608, 1583212574899720192, 1583210773303955456, 1583210174411509760, 1583212627819319296, 1583131981319229441, 1583209126171381761, 1583212631024111617, 1583211808537874433, 1583210296336060416, 1583212958125101058, 1583212043561324546, 1262388592846032898, 1583212224633458689, 1583212869537042434, 1583211851281829894, 1583210449218437121, 1424255527459065862, 1583189203143524353, 1577032981117427712, 1583212735566733312, 1583211115374600192, 1583212220670173184, 1583211993434972160, 1583209609593921536, 1583212004126253057, 1583210837707087872, 1583209313484431360, 1583210480461414400, 1583213707798061058, 1583210506273234946, 1583210967374110722, 1583209825491881984, 1583214054373744643, 1129489772181938179, 1518786002772451332, 1583211491192348677, 1583209355050098695, 1145154431995936768, 1583212636988063744, 1260298372356780032, 1583212208858624000, 1325841003425656832, 1516572747790381056, 1529643011725963264, 1583211207502475265, 1583206969384398849, 1219312752528961536, 1583213985276473344, 1583210221689745408, 1405539008512356353, 1583213700982390784, 1583208056321892352, 1583211137377918976, 1583210777850568704, 558633375, 1260166663867117575, 1182831755482419200, 71201743, 1431682540503371777, 1583214192747839488]\n"
     ]
    }
   ],
   "source": [
    "# Get a list of reciprocal friends\n",
    "reciprocal_friends = get_reciprocal_friends(all_friends_List, all_followers_list)\n",
    "print('Reciprocal Friends: ', reciprocal_friends)"
   ]
  },
  {
   "cell_type": "code",
   "execution_count": 1,
   "metadata": {},
   "outputs": [],
   "source": [
    "length_reciprocal_friends = [1581978514047246336, 1207613861097951233, 1583214444598788096, 1583214349417488385, 1583213773195821057, \n",
    "          1583215420198326277, 1583214901333561344, 1583215426569490439, 1583214096446418944, 1583208512741552128, \n",
    "          1583213323335524354, 1583213525849190406, 1583212552019918853, 1583213184517038085, 1583211994689462278, \n",
    "          1583212285283426312, 1583203343974932496, 1583210151993024524, 1419936059136352269, 287453721, 1581360976598794247,\n",
    "          1583212075182006272, 1583211242029654016, 1583210765154066432, 3399587919, 1318558258286809088, 1583211050568388608,\n",
    "          1583212574899720192, 1583210773303955456, 1583210174411509760, 1583212627819319296, 1583131981319229441, \n",
    "          1583209126171381761, 1583212631024111617, 1583211808537874433, 1583210296336060416, 1583212958125101058, \n",
    "          1583212043561324546, 1262388592846032898, 1583212224633458689, 1583212869537042434, 1583211851281829894, \n",
    "          1583210449218437121, 1424255527459065862, 1583189203143524353, 1577032981117427712, 1583212735566733312, \n",
    "          1583211115374600192, 1583212220670173184, 1583211993434972160, 1583209609593921536, 1583212004126253057, \n",
    "          1583210837707087872, 1583209313484431360, 1583210480461414400, 1583213707798061058, 1583210506273234946, \n",
    "          1583210967374110722, 1583209825491881984, 1583214054373744643, 1129489772181938179, 1518786002772451332,\n",
    "          1583211491192348677, 1583209355050098695, 1145154431995936768, 1583212636988063744, 1260298372356780032, \n",
    "          1583212208858624000, 1325841003425656832, 1516572747790381056, 1529643011725963264, 1583211207502475265, \n",
    "          1583206969384398849, 1219312752528961536, 1583213985276473344, 1583210221689745408, 1405539008512356353, \n",
    "          1583213700982390784, 1583208056321892352, 1583211137377918976, 1583210777850568704, 558633375, 1260166663867117575,\n",
    "          1182831755482419200, 71201743, 1431682540503371777, 1583214192747839488]"
   ]
  },
  {
   "cell_type": "code",
   "execution_count": 3,
   "metadata": {},
   "outputs": [
    {
     "data": {
      "text/plain": [
       "True"
      ]
     },
     "execution_count": 3,
     "metadata": {},
     "output_type": "execute_result"
    }
   ],
   "source": [
    "1182831755482419200 in length_reciprocal_friends"
   ]
  },
  {
   "cell_type": "code",
   "execution_count": 2,
   "metadata": {},
   "outputs": [
    {
     "data": {
      "text/plain": [
       "87"
      ]
     },
     "execution_count": 2,
     "metadata": {},
     "output_type": "execute_result"
    }
   ],
   "source": [
    "len(length_reciprocal_friends)"
   ]
  },
  {
   "cell_type": "code",
   "execution_count": 14,
   "metadata": {
    "id": "XU-NakGDIRWC"
   },
   "outputs": [],
   "source": [
    "# Used to retreive follower count and get profile details\n",
    "\n",
    "\n",
    "def get_user_profile(twitter_api, screen_names=None, user_ids=None):\n",
    "    \n",
    "    # Must have either screen_name or user_id (logical xor)\n",
    "    assert (screen_names != None) != (user_ids != None), \\\n",
    "    \"Must have screen_names or user_ids, but not both\"\n",
    "\n",
    "    items_to_info = {}\n",
    "    items = screen_names or user_ids\n",
    "\n",
    "    while len(items) > 0:\n",
    "\n",
    "        \n",
    "        items_str = ','.join([str(item) for item in items[:100]])\n",
    "        items = items[100:]\n",
    "        if screen_names:\n",
    "            response = make_twitter_requests(twitter_api.users.lookup,\n",
    "                                            screen_name=items_str)\n",
    "        else: # user_ids\n",
    "            response = make_twitter_requests(twitter_api.users.lookup,\n",
    "                                            user_id=items_str)\n",
    "            \n",
    "        for user_info in response:\n",
    "            if screen_names:\n",
    "                items_to_info[user_info['screen_name']] = user_info\n",
    "            else: # user_ids\n",
    "                items_to_info[user_info['id']] = user_info\n",
    "                \n",
    "    return items_to_info"
   ]
  },
  {
   "cell_type": "code",
   "execution_count": 15,
   "metadata": {
    "colab": {
     "base_uri": "https://localhost:8080/"
    },
    "id": "tqhg6O6VIRYZ",
    "outputId": "d305a1ed-a4d0-4420-f46b-dc46bc718acc"
   },
   "outputs": [
    {
     "name": "stdout",
     "output_type": "stream",
     "text": [
      "(1581978514047246336, 1)\n",
      "(1207613861097951233, 61)\n",
      "(1583214444598788096, 0)\n",
      "(1583214349417488385, 2)\n",
      "(1583213773195821057, 0)\n",
      "(1583215420198326277, 0)\n",
      "(1583214901333561344, 0)\n",
      "(1583215426569490439, 0)\n",
      "(1583214096446418944, 0)\n",
      "(1583208512741552128, 0)\n",
      "(1583213323335524354, 0)\n",
      "(1583213525849190406, 0)\n",
      "(1583212552019918853, 1)\n",
      "(1583213184517038085, 0)\n",
      "(1583211994689462278, 0)\n",
      "(1583212285283426312, 1)\n",
      "(1583203343974932496, 0)\n",
      "(1583210151993024524, 0)\n",
      "(1419936059136352269, 4245)\n",
      "(287453721, 313955)\n",
      "(1581360976598794247, 0)\n",
      "(1583212075182006272, 0)\n",
      "(1583211242029654016, 0)\n",
      "(1583210765154066432, 0)\n",
      "(3399587919, 3078)\n",
      "(1318558258286809088, 9843)\n",
      "(1583211050568388608, 0)\n",
      "(1583212574899720192, 0)\n",
      "(1583210773303955456, 0)\n",
      "(1583210174411509760, 0)\n",
      "(1583212627819319296, 0)\n",
      "(1583131981319229441, 0)\n",
      "(1583209126171381761, 1)\n",
      "(1583212631024111617, 0)\n",
      "(1583211808537874433, 0)\n",
      "(1583210296336060416, 0)\n",
      "(1583212958125101058, 0)\n",
      "(1583212043561324546, 1)\n",
      "(1262388592846032898, 73)\n",
      "(1583212224633458689, 0)\n",
      "(1583212869537042434, 0)\n",
      "(1583211851281829894, 0)\n",
      "(1583210449218437121, 0)\n",
      "(1424255527459065862, 3)\n",
      "(1583189203143524353, 0)\n",
      "(1577032981117427712, 1)\n",
      "(1583212735566733312, 0)\n",
      "(1583211115374600192, 4)\n",
      "(1583212220670173184, 0)\n",
      "(1583211993434972160, 0)\n",
      "(1583209609593921536, 0)\n",
      "(1583212004126253057, 0)\n",
      "(1583210837707087872, 0)\n",
      "(1583209313484431360, 0)\n",
      "(1583210480461414400, 1)\n",
      "(1583213707798061058, 0)\n",
      "(1583210506273234946, 0)\n",
      "(1583210967374110722, 1)\n",
      "(1583209825491881984, 0)\n",
      "(1583214054373744643, 0)\n",
      "(1129489772181938179, 672)\n",
      "(1518786002772451332, 141)\n",
      "(1583211491192348677, 1)\n",
      "(1583209355050098695, 1)\n",
      "(1145154431995936768, 0)\n",
      "(1583212636988063744, 0)\n",
      "(1260298372356780032, 0)\n",
      "(1583212208858624000, 0)\n",
      "(1325841003425656832, 74)\n",
      "(1516572747790381056, 0)\n",
      "(1529643011725963264, 315)\n",
      "(1583211207502475265, 0)\n",
      "(1583206969384398849, 0)\n",
      "(1219312752528961536, 10856)\n",
      "(1583213985276473344, 0)\n",
      "(1583210221689745408, 0)\n",
      "(1405539008512356353, 2)\n",
      "(1583213700982390784, 0)\n",
      "(1583208056321892352, 1)\n",
      "(1583211137377918976, 0)\n",
      "(1583210777850568704, 0)\n",
      "(558633375, 2333)\n",
      "(1260166663867117575, 1133)\n",
      "(1182831755482419200, 199859)\n",
      "(71201743, 50951218)\n",
      "(1431682540503371777, 13158)\n",
      "(1583214192747839488, 1)\n"
     ]
    }
   ],
   "source": [
    "# Create a list of tuples of the followers count\n",
    "follower_count_list = []\n",
    "\n",
    "if not reciprocal_friends: # Case1: if reciprocal friends are 0\n",
    "    combined_friends_followers = []\n",
    "    combined_friends_followers = all_followers_list + all_friends_List\n",
    "    combined_friends_followers = set(combined_friends_followers)\n",
    "    \n",
    "    for user_id in list(combined_friends_followers):\n",
    "        us_data = get_user_profile(t, user_ids=[user_id])\n",
    "        us_data = json.dumps(us_data)\n",
    "        us_data = json.loads(us_data)\n",
    "        fo_count = us_data[str(user_id)]['followers_count']\n",
    "        follower_count_list.append(((int(user_id), int(fo_count))))\n",
    "    \n",
    "else: #Case2: if reciprocal friends are present\n",
    "    for user_id in list(reciprocal_friends):\n",
    "        us_data = get_user_profile(t, user_ids=[user_id])\n",
    "        us_data = json.dumps(us_data)\n",
    "        us_data = json.loads(us_data)\n",
    "        fo_count = us_data[str(user_id)]['followers_count']\n",
    "        follower_count_list.append(((int(user_id), int(fo_count))))\n",
    "    #print(follower_count_list)\n",
    "    \n",
    "for x in range(len(follower_count_list)):\n",
    "    print(follower_count_list[x])"
   ]
  },
  {
   "cell_type": "code",
   "execution_count": 16,
   "metadata": {
    "colab": {
     "base_uri": "https://localhost:8080/"
    },
    "id": "qBKmW7p2IRat",
    "outputId": "5ba7c53c-79b1-4e59-e754-9d0bdfd2e43d"
   },
   "outputs": [
    {
     "name": "stdout",
     "output_type": "stream",
     "text": [
      "[(71201743, 50951218), (287453721, 313955), (1182831755482419200, 199859), (1431682540503371777, 13158), (1219312752528961536, 10856), (1318558258286809088, 9843), (1419936059136352269, 4245), (3399587919, 3078), (558633375, 2333), (1260166663867117575, 1133), (1129489772181938179, 672), (1529643011725963264, 315), (1518786002772451332, 141), (1325841003425656832, 74), (1262388592846032898, 73), (1207613861097951233, 61), (1583211115374600192, 4), (1424255527459065862, 3), (1583214349417488385, 2), (1405539008512356353, 2), (1581978514047246336, 1), (1583212552019918853, 1), (1583212285283426312, 1), (1583209126171381761, 1), (1583212043561324546, 1), (1577032981117427712, 1), (1583210480461414400, 1), (1583210967374110722, 1), (1583211491192348677, 1), (1583209355050098695, 1), (1583208056321892352, 1), (1583214192747839488, 1), (1583214444598788096, 0), (1583213773195821057, 0), (1583215420198326277, 0), (1583214901333561344, 0), (1583215426569490439, 0), (1583214096446418944, 0), (1583208512741552128, 0), (1583213323335524354, 0), (1583213525849190406, 0), (1583213184517038085, 0), (1583211994689462278, 0), (1583203343974932496, 0), (1583210151993024524, 0), (1581360976598794247, 0), (1583212075182006272, 0), (1583211242029654016, 0), (1583210765154066432, 0), (1583211050568388608, 0), (1583212574899720192, 0), (1583210773303955456, 0), (1583210174411509760, 0), (1583212627819319296, 0), (1583131981319229441, 0), (1583212631024111617, 0), (1583211808537874433, 0), (1583210296336060416, 0), (1583212958125101058, 0), (1583212224633458689, 0), (1583212869537042434, 0), (1583211851281829894, 0), (1583210449218437121, 0), (1583189203143524353, 0), (1583212735566733312, 0), (1583212220670173184, 0), (1583211993434972160, 0), (1583209609593921536, 0), (1583212004126253057, 0), (1583210837707087872, 0), (1583209313484431360, 0), (1583213707798061058, 0), (1583210506273234946, 0), (1583209825491881984, 0), (1583214054373744643, 0), (1145154431995936768, 0), (1583212636988063744, 0), (1260298372356780032, 0), (1583212208858624000, 0), (1516572747790381056, 0), (1583211207502475265, 0), (1583206969384398849, 0), (1583213985276473344, 0), (1583210221689745408, 0), (1583213700982390784, 0), (1583211137377918976, 0), (1583210777850568704, 0)]\n"
     ]
    }
   ],
   "source": [
    "sorted_count_list = sorted(follower_count_list, key=lambda fo_count: fo_count[1], reverse=True) # sort by count values\n",
    "print(sorted_count_list)"
   ]
  },
  {
   "cell_type": "code",
   "execution_count": 17,
   "metadata": {
    "id": "gypDv0LPIRdw"
   },
   "outputs": [],
   "source": [
    "# Get followers for the TOP-5 in this list\n",
    "\n",
    "def crawl_followers_by_user_id(twitter_api, user_friends, user_followers, user_id=None, limit=1000000, depth=1):\n",
    "    screen_id = user_id\n",
    "    friend_queue, next_queue = get_ids_friends_followers(twitter_api, user_id=screen_id,\n",
    "                        friends_limit=limit, followers_limit=limit)\n",
    "    \n",
    "    # Store followers in an object\n",
    "    #user_followers = dict()\n",
    "    follower_list = [str(x) for x in next_queue]\n",
    "    \n",
    "    for line1 in follower_list:\n",
    "        # here define what key is, for example,\n",
    "        key = screen_id\n",
    "        user_followers.setdefault(key,[]).append(line1)\n",
    "    \n",
    "    # Store friends in an object\n",
    "    #user_friends = dict()\n",
    "    friend_list = [str(x) for x in friend_queue]\n",
    "    \n",
    "    for line2 in friend_list:\n",
    "        # here define what key is, for example,\n",
    "        key = screen_id\n",
    "        user_friends.setdefault(key,[]).append(line2)\n",
    "\n",
    "    \n",
    "    d = 1\n",
    "    list_count = 0\n",
    "    tempDict = dict()\n",
    "    # Note that in the example in the next cell, we never enter this loop.\n",
    "    while d < depth and list_count < 100:\n",
    "        d += 1\n",
    "        list_count += 1\n",
    "        # Reset the next_queue so that we can start building up the next level of followers-of-followers\n",
    "        (queue, next_queue) = (next_queue, [])\n",
    "        \n",
    "        # Loop through the current level of followers\n",
    "        for fid in queue:\n",
    "            friendid_queue, follower_ids = get_ids_friends_followers(twitter_api, user_id=fid, friends_limit=limit, followers_limit=limit)\n",
    "\n",
    "\n",
    "            # Store followers in an object\n",
    "            follower_ids_list = [str(x) for x in follower_ids]\n",
    "\n",
    "            for line3 in follower_ids_list:\n",
    "                # here define what key is, for example,\n",
    "                key = fid\n",
    "                user_followers.setdefault(key,[]).append(line3)\n",
    "\n",
    "            # Store friends in an object\n",
    "            friendsid_list = [str(x) for x in friendid_queue]\n",
    "    \n",
    "            for line4 in friendsid_list:\n",
    "                # here define what key is, for example,\n",
    "                key = fid\n",
    "                user_friends.setdefault(key,[]).append(line4)\n",
    "        \n",
    "            # Extending the list\n",
    "            next_queue += follower_ids\n",
    "            friend_queue += friendid_queue\n",
    "        \n",
    "        tempDict.update(user_followers)\n",
    "        tempDict.update(user_friends)\n",
    "        list_count = sum(len(v) for k, v in tempDict.items())\n",
    "        print('Length of list: ', list_count)\n",
    "    \n",
    "    return user_friends, user_followers # Dicts"
   ]
  },
  {
   "cell_type": "code",
   "execution_count": 18,
   "metadata": {
    "colab": {
     "base_uri": "https://localhost:8080/"
    },
    "id": "bJCXPkvtIRf0",
    "outputId": "7ae69d50-11fb-485a-9b8a-8da40e4fc5e1"
   },
   "outputs": [
    {
     "metadata": {
      "tags": null
     },
     "name": "stdout",
     "output_type": "stream",
     "text": [
      "Sorted Count List Len:  87\n",
      "Fetched 65 total friends ids for 71201743\n",
      "Fetched 5000 total followers ids for 71201743\n",
      "Fetched 5 total friends ids for 1583240035259785216\n",
      "Fetched 0 total followers ids for 1583240035259785216\n",
      "Fetched 1 total friends ids for 1583240023587147776\n",
      "Fetched 0 total followers ids for 1583240023587147776\n",
      "Fetched 10 total friends ids for 1583239974253731840\n",
      "Fetched 0 total followers ids for 1583239974253731840\n",
      "Fetched 1 total friends ids for 1583238930287034368\n",
      "Fetched 0 total followers ids for 1583238930287034368\n",
      "Fetched 42 total friends ids for 1583237870906757121\n",
      "Fetched 0 total followers ids for 1583237870906757121\n",
      "Length of list:  22\n",
      "Fetched 65 total friends ids for 71201743\n",
      "Fetched 5000 total followers ids for 71201743\n",
      "Fetched 6 total friends ids for 1583240035259785216\n",
      "Fetched 0 total followers ids for 1583240035259785216\n",
      "Fetched 1 total friends ids for 1583240023587147776\n",
      "Fetched 0 total followers ids for 1583240023587147776\n",
      "Fetched 10 total friends ids for 1583239974253731840\n",
      "Fetched 0 total followers ids for 1583239974253731840\n",
      "Fetched 1 total friends ids for 1583238930287034368\n",
      "Fetched 0 total followers ids for 1583238930287034368\n",
      "Fetched 42 total friends ids for 1583237870906757121\n",
      "Fetched 0 total followers ids for 1583237870906757121\n",
      "Length of list:  44\n",
      "Fetched 65 total friends ids for 71201743\n",
      "Fetched 5000 total followers ids for 71201743\n",
      "Fetched 6 total friends ids for 1583240035259785216\n",
      "Fetched 0 total followers ids for 1583240035259785216\n",
      "Fetched 1 total friends ids for 1583240023587147776\n"
     ]
    },
    {
     "metadata": {
      "tags": null
     },
     "name": "stderr",
     "output_type": "stream",
     "text": [
      "Encountered 429 Error (Rate Limit Exceeded)\n",
      "Retrying in 15 minutes...ZzZ...\n"
     ]
    },
    {
     "metadata": {
      "tags": null
     },
     "name": "stdout",
     "output_type": "stream",
     "text": [
      "Fetched 0 total followers ids for 1583240023587147776\n"
     ]
    },
    {
     "name": "stderr",
     "output_type": "stream",
     "text": [
      "...ZzZ...Awake now and trying again.\n"
     ]
    },
    {
     "name": "stdout",
     "output_type": "stream",
     "text": [
      "Fetched 10 total friends ids for 1583239974253731840\n",
      "Fetched 0 total followers ids for 1583239974253731840\n",
      "Fetched 2 total friends ids for 1583238930287034368\n",
      "Fetched 0 total followers ids for 1583238930287034368\n",
      "Fetched 42 total friends ids for 1583237870906757121\n",
      "Fetched 0 total followers ids for 1583237870906757121\n",
      "Length of list:  67\n",
      "Fetched 65 total friends ids for 71201743\n",
      "Fetched 5000 total followers ids for 71201743\n",
      "Fetched 15 total friends ids for 1583240622567104513\n",
      "Fetched 0 total followers ids for 1583240622567104513\n",
      "Fetched 16 total friends ids for 1583243240110579712\n",
      "Fetched 0 total followers ids for 1583243240110579712\n",
      "Fetched 16 total friends ids for 1583243342216773632\n",
      "Fetched 0 total followers ids for 1583243342216773632\n",
      "Fetched 1 total friends ids for 1583241574661599235\n",
      "Fetched 0 total followers ids for 1583241574661599235\n",
      "Fetched 1 total friends ids for 1583243894191718400\n",
      "Fetched 0 total followers ids for 1583243894191718400\n",
      "Length of list:  89\n",
      "Fetched 65 total friends ids for 71201743\n",
      "Fetched 5000 total followers ids for 71201743\n",
      "Fetched 15 total friends ids for 1583240622567104513\n",
      "Fetched 0 total followers ids for 1583240622567104513\n",
      "Fetched 16 total friends ids for 1583243240110579712\n",
      "Fetched 0 total followers ids for 1583243240110579712\n",
      "Fetched 16 total friends ids for 1583243342216773632\n",
      "Fetched 0 total followers ids for 1583243342216773632\n",
      "Fetched 1 total friends ids for 1583241574661599235\n",
      "Fetched 0 total followers ids for 1583241574661599235\n",
      "Fetched 1 total friends ids for 1583243894191718400\n",
      "Fetched 0 total followers ids for 1583243894191718400\n",
      "Length of list:  111\n",
      "end_friends:  {71201743: ['1309070839170707456', '784285112204570624', '1113763619878002689', '1512640494', '1447949844', '1309070839170707456', '784285112204570624', '1113763619878002689', '1512640494', '1447949844', '1309070839170707456', '784285112204570624', '1113763619878002689', '1512640494', '1447949844', '1309070839170707456', '784285112204570624', '1113763619878002689', '1512640494', '1447949844', '1309070839170707456', '784285112204570624', '1113763619878002689', '1512640494', '1447949844'], 1583240035259785216: ['17659340', '71201743', '18208354', '37710752', '602317143', '42451620', '17659340', '71201743', '18208354', '37710752', '42451620', '17659340', '71201743', '18208354', '37710752'], 1583240023587147776: ['71201743', '71201743', '71201743'], 1583239974253731840: ['872989094325829632', '1501631446095925248', '3301296542', '953255995332993024', '30013357', '872989094325829632', '1501631446095925248', '3301296542', '953255995332993024', '30013357', '872989094325829632', '1501631446095925248', '3301296542', '953255995332993024', '30013357'], 1583238930287034368: ['71201743', '71201743', '185142711', '71201743'], 1583237870906757121: ['2596143056', '3017315815', '1897514666', '859707263967125506', '849176426523705344', '2596143056', '3017315815', '1897514666', '859707263967125506', '828176181446979585', '2596143056', '3017315815', '1897514666', '859707263967125506', '828176181446979585'], 1583240622567104513: ['2587240482', '183230911', '143392465', '3437532637', '824893826066034688', '2587240482', '3437532637', '183230911', '143392465', '824893826066034688'], 1583243240110579712: ['101311381', '71201743', '3171712086', '145125358', '143409075', '101311381', '71201743', '3171712086', '145125358', '132385468'], 1583243342216773632: ['295026890', '183230911', '368186169', '121046433', '18839785', '183230911', '295026890', '368186169', '18839785', '121046433'], 1583241574661599235: ['71201743', '71201743'], 1583243894191718400: ['71201743', '71201743']}\n",
      "end_followers:  {71201743: ['1583240035259785216', '1583240023587147776', '1583239974253731840', '1583238930287034368', '1583237870906757121', '1583240035259785216', '1583240023587147776', '1583239974253731840', '1583238930287034368', '1583237870906757121', '1583240035259785216', '1583240023587147776', '1583239974253731840', '1583238930287034368', '1583237870906757121', '1583240622567104513', '1583243240110579712', '1583243342216773632', '1583241574661599235', '1583243894191718400', '1583240622567104513', '1583243240110579712', '1583243342216773632', '1583241574661599235', '1583243894191718400']}\n"
     ]
    }
   ],
   "source": [
    "#from collections import Counter\n",
    "\n",
    "sorted_count_list_len = len(sorted_count_list)\n",
    "print('Sorted Count List Len: ', sorted_count_list_len)\n",
    "\n",
    "end_friends = dict()\n",
    "end_followers = dict()\n",
    "\n",
    "tempCount = 0\n",
    "for item in range(sorted_count_list_len):\n",
    "    while tempCount < 5 : # consider only top 5\n",
    "        tempCount += 1\n",
    "        userid = sorted_count_list[item][0]\n",
    "        #print(userid)\n",
    "        end_friends, end_followers = crawl_followers_by_user_id(t, end_friends, end_followers, user_id=userid, limit=5, depth=2)\n",
    "        \n",
    "print('end_friends: ',end_friends)\n",
    "print('end_followers: ', end_followers)"
   ]
  },
  {
   "cell_type": "code",
   "execution_count": 20,
   "metadata": {
    "id": "KQt_qDfHNTOu"
   },
   "outputs": [],
   "source": [
    "import json\n",
    "\n",
    "with open('Graph_data.json', 'w') as fp:\n",
    "    json.dump(all_end_nodes, fp, indent=4)"
   ]
  },
  {
   "cell_type": "code",
   "execution_count": 21,
   "metadata": {
    "id": "ySpuJSoSNTUA"
   },
   "outputs": [],
   "source": [
    "with open('Graph_data.json', 'r') as fp:\n",
    "    data = json.load(fp)"
   ]
  },
  {
   "cell_type": "code",
   "execution_count": 22,
   "metadata": {
    "colab": {
     "base_uri": "https://localhost:8080/"
    },
    "id": "e7AWWLMNNdpw",
    "outputId": "6256c9a4-c2f5-465d-e421-6cca3c0a1967"
   },
   "outputs": [
    {
     "name": "stdout",
     "output_type": "stream",
     "text": [
      "48\n"
     ]
    }
   ],
   "source": [
    "node_list = []\n",
    "\n",
    "for user_id, followers in data.items():\n",
    "    node_list.append(int(user_id))\n",
    "    #for fo in range(len(followers)):\n",
    "        #node_list.append(int(data.get(user_id)[fo]))\n",
    "    node_list += followers \n",
    "\n",
    "\n",
    "# Convert a list to a set to get the unique ids, and then back to a list\n",
    "node_list = list(set(node_list))\n",
    "print(len(node_list))"
   ]
  },
  {
   "cell_type": "code",
   "execution_count": 23,
   "metadata": {
    "colab": {
     "base_uri": "https://localhost:8080/"
    },
    "id": "dJOm-tWwNdzG",
    "outputId": "2c7f2003-f7fc-4a69-8f02-ff086ff8c19d"
   },
   "outputs": [
    {
     "name": "stdout",
     "output_type": "stream",
     "text": [
      "(71201743, 1309070839170707456)\n",
      "(71201743, 784285112204570624)\n",
      "(71201743, 1113763619878002689)\n",
      "(71201743, 1512640494)\n",
      "(71201743, 1447949844)\n",
      "(71201743, 1309070839170707456)\n",
      "(71201743, 784285112204570624)\n",
      "(71201743, 1113763619878002689)\n",
      "(71201743, 1512640494)\n",
      "(71201743, 1447949844)\n",
      "(71201743, 1309070839170707456)\n",
      "(71201743, 784285112204570624)\n",
      "(71201743, 1113763619878002689)\n",
      "(71201743, 1512640494)\n",
      "(71201743, 1447949844)\n",
      "(71201743, 1309070839170707456)\n",
      "(71201743, 784285112204570624)\n",
      "(71201743, 1113763619878002689)\n",
      "(71201743, 1512640494)\n",
      "(71201743, 1447949844)\n",
      "(71201743, 1309070839170707456)\n",
      "(71201743, 784285112204570624)\n",
      "(71201743, 1113763619878002689)\n",
      "(71201743, 1512640494)\n",
      "(71201743, 1447949844)\n",
      "(1583240035259785216, 17659340)\n",
      "(1583240035259785216, 71201743)\n",
      "(1583240035259785216, 18208354)\n",
      "(1583240035259785216, 37710752)\n",
      "(1583240035259785216, 602317143)\n",
      "(1583240035259785216, 42451620)\n",
      "(1583240035259785216, 17659340)\n",
      "(1583240035259785216, 71201743)\n",
      "(1583240035259785216, 18208354)\n",
      "(1583240035259785216, 37710752)\n",
      "(1583240035259785216, 42451620)\n",
      "(1583240035259785216, 17659340)\n",
      "(1583240035259785216, 71201743)\n",
      "(1583240035259785216, 18208354)\n",
      "(1583240035259785216, 37710752)\n",
      "(1583240023587147776, 71201743)\n",
      "(1583240023587147776, 71201743)\n",
      "(1583240023587147776, 71201743)\n",
      "(1583239974253731840, 872989094325829632)\n",
      "(1583239974253731840, 1501631446095925248)\n",
      "(1583239974253731840, 3301296542)\n",
      "(1583239974253731840, 953255995332993024)\n",
      "(1583239974253731840, 30013357)\n",
      "(1583239974253731840, 872989094325829632)\n",
      "(1583239974253731840, 1501631446095925248)\n",
      "(1583239974253731840, 3301296542)\n",
      "(1583239974253731840, 953255995332993024)\n",
      "(1583239974253731840, 30013357)\n",
      "(1583239974253731840, 872989094325829632)\n",
      "(1583239974253731840, 1501631446095925248)\n",
      "(1583239974253731840, 3301296542)\n",
      "(1583239974253731840, 953255995332993024)\n",
      "(1583239974253731840, 30013357)\n",
      "(1583238930287034368, 71201743)\n",
      "(1583238930287034368, 71201743)\n",
      "(1583238930287034368, 185142711)\n",
      "(1583238930287034368, 71201743)\n",
      "(1583237870906757121, 2596143056)\n",
      "(1583237870906757121, 3017315815)\n",
      "(1583237870906757121, 1897514666)\n",
      "(1583237870906757121, 859707263967125506)\n",
      "(1583237870906757121, 849176426523705344)\n",
      "(1583237870906757121, 2596143056)\n",
      "(1583237870906757121, 3017315815)\n",
      "(1583237870906757121, 1897514666)\n",
      "(1583237870906757121, 859707263967125506)\n",
      "(1583237870906757121, 828176181446979585)\n",
      "(1583237870906757121, 2596143056)\n",
      "(1583237870906757121, 3017315815)\n",
      "(1583237870906757121, 1897514666)\n",
      "(1583237870906757121, 859707263967125506)\n",
      "(1583237870906757121, 828176181446979585)\n",
      "(1583240622567104513, 2587240482)\n",
      "(1583240622567104513, 183230911)\n",
      "(1583240622567104513, 143392465)\n",
      "(1583240622567104513, 3437532637)\n",
      "(1583240622567104513, 824893826066034688)\n",
      "(1583240622567104513, 2587240482)\n",
      "(1583240622567104513, 3437532637)\n",
      "(1583240622567104513, 183230911)\n",
      "(1583240622567104513, 143392465)\n",
      "(1583240622567104513, 824893826066034688)\n",
      "(1583243240110579712, 101311381)\n",
      "(1583243240110579712, 71201743)\n",
      "(1583243240110579712, 3171712086)\n",
      "(1583243240110579712, 145125358)\n",
      "(1583243240110579712, 143409075)\n",
      "(1583243240110579712, 101311381)\n",
      "(1583243240110579712, 71201743)\n",
      "(1583243240110579712, 3171712086)\n",
      "(1583243240110579712, 145125358)\n",
      "(1583243240110579712, 132385468)\n",
      "(1583243342216773632, 295026890)\n",
      "(1583243342216773632, 183230911)\n",
      "(1583243342216773632, 368186169)\n",
      "(1583243342216773632, 121046433)\n",
      "(1583243342216773632, 18839785)\n",
      "(1583243342216773632, 183230911)\n",
      "(1583243342216773632, 295026890)\n",
      "(1583243342216773632, 368186169)\n",
      "(1583243342216773632, 18839785)\n",
      "(1583243342216773632, 121046433)\n",
      "(1583241574661599235, 71201743)\n",
      "(1583241574661599235, 71201743)\n",
      "(1583243894191718400, 71201743)\n",
      "(1583243894191718400, 71201743)\n"
     ]
    }
   ],
   "source": [
    "edge_list = []\n",
    "\n",
    "for user_id, followers in data.items():\n",
    "    for fo in range(len(followers)):\n",
    "        # clean user_id and follower id\n",
    "        us_id = str(user_id).replace(\"'\", '')\n",
    "        fo_id = str(data.get(user_id)[fo]).replace(\"'\", '')\n",
    "        edge_list.append((int(us_id), int(fo_id)))\n",
    "\n",
    "for x in range(len(edge_list)):\n",
    "    print(edge_list[x])"
   ]
  },
  {
   "cell_type": "code",
   "execution_count": 24,
   "metadata": {
    "id": "MU2rBXEwNd3P"
   },
   "outputs": [],
   "source": [
    "import networkx as nx\n",
    "import numpy as np\n",
    "import community\n",
    "import matplotlib.pyplot as plt\n",
    "import networkx as nx\n",
    "import functools\n",
    "from operator import mul"
   ]
  },
  {
   "cell_type": "code",
   "execution_count": 25,
   "metadata": {
    "id": "JNdmSBEPNd-x"
   },
   "outputs": [],
   "source": [
    "\n",
    "G = nx.Graph()\n",
    "G.add_nodes_from(node_list)\n",
    "G.add_edges_from(edge_list)"
   ]
  },
  {
   "cell_type": "code",
   "execution_count": 26,
   "metadata": {
    "id": "72f6t8CvjR9v"
   },
   "outputs": [],
   "source": [
    "import community.community_louvain as community_louvain"
   ]
  },
  {
   "cell_type": "code",
   "execution_count": 27,
   "metadata": {
    "id": "JgGmoQztNeCm"
   },
   "outputs": [],
   "source": [
    "# Computes the partition of the graph nodes which maximises the modularity using the Louvain heuristics algorithm. \n",
    "# This is the partition of highest modularity.\n",
    "part = community_louvain.best_partition(G)\n",
    "\n",
    "# Computes the modularity of a partition of a graph\n",
    "mod = community_louvain.modularity(part,G)"
   ]
  },
  {
   "cell_type": "code",
   "execution_count": 28,
   "metadata": {
    "colab": {
     "base_uri": "https://localhost:8080/",
     "height": 337
    },
    "id": "D_pCoumxNwZJ",
    "outputId": "dce6db47-db6c-4f1a-8a15-1499e68bf554"
   },
   "outputs": [
    {
     "data": {
      "image/png": "[encoded data removed]",
      "text/plain": [
       "<Figure size 432x288 with 1 Axes>"
      ]
     },
     "metadata": {},
     "output_type": "display_data"
    },
    {
     "name": "stdout",
     "output_type": "stream",
     "text": [
      "The Modularity of the Community Partitioning is:  0.7717685235262304\n"
     ]
    }
   ],
   "source": [
    "# Plot, color nodes using community structure\n",
    "values = [part.get(node) for node in G.nodes()]\n",
    "nx.draw_spring(G, cmap=plt.cm.RdYlBu, node_size=50, node_color = values, font_size=12, with_labels=False, font_family='sans-serif')\n",
    "\n",
    "#nx.draw_spring(G, cmap = plt.get_cmap('jet'), node_color = values, node_size=30, with_labels=False)\n",
    "\n",
    "#pos = nx.spring_layout(G)  # compute graph layout\n",
    "#nx.draw_networkx_nodes(G, pos, node_size=30, cmap=plt.cm.RdYlBu, node_color=values)\n",
    "#nx.draw_networkx_edges(G, pos,edgelist=edge_list, alpha=0.3)\n",
    "\n",
    "plt.show()\n",
    "\n",
    "print('The Modularity of the Community Partitioning is: ', community_louvain.modularity(part,G))"
   ]
  },
  {
   "cell_type": "code",
   "execution_count": 29,
   "metadata": {
    "id": "7meJ8FUtkDJs"
   },
   "outputs": [],
   "source": [
    "graphFile = 'community_detection.graphml'"
   ]
  },
  {
   "cell_type": "code",
   "execution_count": 30,
   "metadata": {
    "id": "PbdWvRgJkBsD"
   },
   "outputs": [],
   "source": [
    "with open(graphFile, 'wb') as fOut:\n",
    "    nx.write_graphml(G, fOut)"
   ]
  },
  {
   "cell_type": "code",
   "execution_count": 31,
   "metadata": {
    "id": "ElTY_bnEVca7"
   },
   "outputs": [],
   "source": [
    "# read it back in to demonstrate it works\n",
    "replyGraph = nx.readwrite.read_graphml(graphFile)\n",
    "\n",
    "\n",
    "# computing the degree centrality and plotting it\n",
    "lDegCentrality = nx.degree_centrality(replyGraph)\n",
    "\n",
    "\n",
    "#\n",
    "# write code to compute eigenvetor and katz centrality\n",
    "# lEigenVectorCentrality = ...\n",
    "#\n",
    "lEigenVectorCentrality = nx.eigenvector_centrality(replyGraph)\n",
    "lKatzCentrality = nx.katz_centrality(replyGraph)"
   ]
  },
  {
   "cell_type": "code",
   "execution_count": 32,
   "metadata": {
    "colab": {
     "base_uri": "https://localhost:8080/",
     "height": 295
    },
    "id": "wWwbSSH-Xz_0",
    "outputId": "b9987923-0c1a-47ee-de2e-6b502bc5aac6"
   },
   "outputs": [
    {
     "data": {
      "image/png": "[encoded data removed]",
      "text/plain": [
       "<Figure size 432x288 with 3 Axes>"
      ]
     },
     "metadata": {
      "needs_background": "light"
     },
     "output_type": "display_data"
    }
   ],
   "source": [
    "# plot histograms\n",
    "plt.subplot(1,3,1)\n",
    "plt.hist(list(lDegCentrality.values()))\n",
    "plt.title('Degree')\n",
    "plt.xlabel('centrality')\n",
    "#\n",
    "# TODO: plot the other two histograms\n",
    "#\n",
    "# eigenvector centrality\n",
    "plt.subplot(1, 3, 2)\n",
    "plt.hist(list(lEigenVectorCentrality.values()))\n",
    "plt.title('Eigenvector')\n",
    "plt.xlabel('centrality')\n",
    "# katz centrality\n",
    "plt.subplot(1, 3, 3)\n",
    "plt.hist(list(lKatzCentrality.values()))\n",
    "plt.title('Katz')\n",
    "plt.xlabel('centrality')\n",
    "\n",
    "plt.show()"
   ]
  },
  {
   "cell_type": "code",
   "execution_count": null,
   "metadata": {
    "id": "zBUv64UJYeuU"
   },
   "outputs": [],
   "source": [
    "\n",
    "#\n",
    "# eigenvector centrality, stored in node attribute 'eigen'\n",
    "for nodeId, cent in lEigenVectorCentrality.items():\n",
    "    replyGraph.nodes[nodeId]['eigen'] = float(cent)\n",
    "\n",
    "# katz centrality, stored in node attribute 'katz'\n",
    "for nodeId, cent in lKatzCentrality.items():\n",
    "    replyGraph.nodes[nodeId]['katz'] = float(cent)\n",
    "\n",
    "\n",
    "#\n",
    "# TODO: write out graph to new file\n",
    "#\n",
    "nx.readwrite.write_graphml(replyGraph, 'mod' + graphFile, infer_numeric_types=True)\n",
    "\n",
    "\n",
    "#\n",
    "# TODO: compute the other SNA measures specified in the lab\n",
    "#\n",
    "\n",
    "#\n",
    "# compute clustering\n",
    "# the networkx code is within format(...)\n",
    "#\n",
    "print('Gloabl clustering coefficient/transitivit = {}'.format(nx.transitivity(replyGraph)))\n",
    "\n",
    "\n",
    "#\n",
    "# compute components\n",
    "#\n",
    "print('number of strongly connected components = {}'.format(nx.number_strongly_connected_components(replyGraph)))\n",
    "print('number of weakly connected components = {}'.format(nx.number_weakly_connected_components(replyGraph)))\n",
    "\n",
    "\n",
    "\n",
    "#\n",
    "# compute bridges\n",
    "#\n",
    "print(list(nx.bridges(replyGraph.to_undirected())))\n"
   ]
  }
 ],
 "metadata": {
  "colab": {
   "collapsed_sections": [],
   "provenance": []
  },
  "kernelspec": {
   "display_name": "Python 3",
   "language": "python",
   "name": "python3"
  },
  "language_info": {
   "codemirror_mode": {
    "name": "ipython",
    "version": 3
   },
   "file_extension": ".py",
   "mimetype": "text/x-python",
   "name": "python",
   "nbconvert_exporter": "python",
   "pygments_lexer": "ipython3",
   "version": "3.8.5"
  }
 },
 "nbformat": 4,
 "nbformat_minor": 1
}

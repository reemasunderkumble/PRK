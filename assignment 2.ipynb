{
 "cells": [
  {
   "cell_type": "markdown",
   "id": "1d818360",
   "metadata": {},
   "source": [
    "### Assignment 2"
   ]
  },
  {
   "cell_type": "markdown",
   "id": "841ce7be",
   "metadata": {},
   "source": [
    "#### Retrieving tweets on popular hashtags - `#NotmyKing` and `#AbolishTheMonarchy` and storing in json file"
   ]
  },
  {
   "cell_type": "code",
   "execution_count": 24,
   "id": "f5f9e87a",
   "metadata": {},
   "outputs": [],
   "source": [
    "import warnings\n",
    "warnings.filterwarnings(\"ignore\", category=DeprecationWarning)"
   ]
  },
  {
   "cell_type": "code",
   "execution_count": 25,
   "id": "6af38105",
   "metadata": {},
   "outputs": [],
   "source": [
    "%load_ext autoreload\n",
    "%autoreload 1\n",
    "# we are importing twitterClient.py and TwitterProcessing.py with its contents\n",
    "%aimport twitterClient\n",
    "%aimport TwitterProcessing"
   ]
  },
  {
   "cell_type": "code",
   "execution_count": 26,
   "id": "664dd108",
   "metadata": {},
   "outputs": [],
   "source": [
    "import json\n",
    "import string\n",
    "import tweepy\n",
    "import sys"
   ]
  },
  {
   "cell_type": "code",
   "execution_count": 27,
   "id": "f44aeca6",
   "metadata": {},
   "outputs": [],
   "source": [
    "lFields = ['author_id','entities','id','in_reply_to_user_id','referenced_tweets','text','created_at']\n",
    "client = twitterClient.twitterClient()"
   ]
  },
  {
   "cell_type": "code",
   "execution_count": 28,
   "id": "26750de8",
   "metadata": {},
   "outputs": [],
   "source": [
    "query = '#NotMyKing -is:retweet lang:en'\n",
    "\n",
    "# Set the limit=10000 to fetch 10000 tweets\n",
    "items = tweepy.Paginator(client.search_recent_tweets,query=query,tweet_fields=lFields).flatten(limit=10000)"
   ]
  },
  {
   "cell_type": "code",
   "execution_count": 29,
   "id": "85941ee2",
   "metadata": {},
   "outputs": [],
   "source": [
    "tweet_list=[]\n",
    "for item in items:\n",
    "    tweet_list.append(item.data)"
   ]
  },
  {
   "cell_type": "code",
   "execution_count": 30,
   "id": "a6f0e10d",
   "metadata": {},
   "outputs": [
    {
     "data": {
      "text/plain": [
       "1395"
      ]
     },
     "execution_count": 30,
     "metadata": {},
     "output_type": "execute_result"
    }
   ],
   "source": [
    "len(tweet_list)"
   ]
  },
  {
   "cell_type": "code",
   "execution_count": 31,
   "id": "96febd68",
   "metadata": {},
   "outputs": [],
   "source": [
    "query = '#AbolishTheMonarchy -is:retweet lang:en'\n",
    "\n",
    "# Set the limit=10000 to fetch 10000 tweets\n",
    "items = tweepy.Paginator(client.search_recent_tweets,query=query,tweet_fields=lFields).flatten(limit=10000)"
   ]
  },
  {
   "cell_type": "code",
   "execution_count": 32,
   "id": "de238063",
   "metadata": {},
   "outputs": [],
   "source": [
    "tweet_list1=[]\n",
    "for item in items:\n",
    "    tweet_list1.append(item.data)"
   ]
  },
  {
   "cell_type": "code",
   "execution_count": 33,
   "id": "a8b9999a",
   "metadata": {},
   "outputs": [
    {
     "data": {
      "text/plain": [
       "1974"
      ]
     },
     "execution_count": 33,
     "metadata": {},
     "output_type": "execute_result"
    }
   ],
   "source": [
    "len(tweet_list1)"
   ]
  },
  {
   "cell_type": "code",
   "execution_count": 34,
   "id": "bf6ca488",
   "metadata": {},
   "outputs": [],
   "source": [
    "with open('a2twitter.json', 'w') as tt:\n",
    "    for item in tweet_list:\n",
    "        json.dump(item,tt)\n",
    "        tt.write(\"\\n\")\n",
    "    for item in tweet_list1:\n",
    "        json.dump(item,tt)\n",
    "        tt.write(\"\\n\")"
   ]
  },
  {
   "cell_type": "markdown",
   "id": "4cbb6b25",
   "metadata": {},
   "source": [
    "### Website scraping"
   ]
  },
  {
   "cell_type": "markdown",
   "id": "e40ff558",
   "metadata": {},
   "source": [
    "#### Article 1 -"
   ]
  },
  {
   "cell_type": "code",
   "execution_count": null,
   "id": "6a318082",
   "metadata": {},
   "outputs": [],
   "source": [
    "# importing the necessary packages\n",
    "import requests\n",
    "from bs4 import BeautifulSoup"
   ]
  },
  {
   "cell_type": "code",
   "execution_count": 2,
   "id": "99ddfb63",
   "metadata": {},
   "outputs": [],
   "source": [
    "r1 = requests.get('https://www.rutgers.edu/news/after-queen-elizabeths-death-will-monarchy-continue')\n",
    "coverpage = r1.content\n",
    "soup1 = BeautifulSoup(coverpage, 'html5lib')"
   ]
  },
  {
   "cell_type": "code",
   "execution_count": 3,
   "id": "bf182850",
   "metadata": {},
   "outputs": [],
   "source": [
    "coverpage_news = soup1.find_all('div', class_='f--field f--rich-text')"
   ]
  },
  {
   "cell_type": "code",
   "execution_count": 4,
   "id": "5cc65f01",
   "metadata": {},
   "outputs": [
    {
     "data": {
      "text/plain": [
       "1"
      ]
     },
     "execution_count": 4,
     "metadata": {},
     "output_type": "execute_result"
    }
   ],
   "source": [
    "len(coverpage_news)"
   ]
  },
  {
   "cell_type": "code",
   "execution_count": 5,
   "id": "298cfa79",
   "metadata": {},
   "outputs": [],
   "source": [
    "article1= []\n",
    "article1.append(coverpage_news[0].get_text())"
   ]
  },
  {
   "cell_type": "code",
   "execution_count": 7,
   "id": "86e584d3",
   "metadata": {},
   "outputs": [
    {
     "name": "stdout",
     "output_type": "stream",
     "text": [
      "['\\n\\n    \\n  Queen Elizabeth II, Britain’s longest-serving monarch who assumed the throne in 1952 and reigned through periods of major transition, turmoil and social change, died today at the age of 96. \\xa0\\n\\nHistorian Alastair Bellany from the School of Arts and Sciences at Rutgers University-New Brunswick talked to Rutgers Today about her legacy and how she changed the monarchy.\\n\\nWhat is Queen Elizabeth’s Legacy?\\n\\nBritain has changed profoundly in the 70 years since Elizabeth II’s accession, and she had the difficult, perhaps impossible, task of preserving an institution that in principle lived long past its historical sell-by-date.\\xa0 \\n\\nThat she died almost universally beloved and respected, even by anti-monarchists, is one measure of her personal achievement. The monarchy has survived, but it has had to change, and it has lost some of the automatic deference it once inspired. At various points, Elizabeth allowed attempts to modernize the monarchy while still preserving the trappings of the past. \\n\\nHow did the monarchy change and evolve under her rule? \\xa0 \\n\\nQueen Elizabeth staged grand, ancient-looking, royal pageants but also allowed them to be broadcast on the new mass medium of TV. She maintained a high degree of mystery and ceremonial distance, but she agreed (in the late 1960s) to allow cameras into the palaces to record a fly-on-the-wall documentary about the royal family. \\n\\nThe modern mass media made Elizabeth and her family global celebrities; the same mass media would feed on the ruins of her children’s marriages. In the early and mid-1990s, the Queen risked being overshadowed by Diana, “the People’s Princess”, and the Queen’s uncharacteristic missteps in the aftermath of Diana’s death were a sign of her (and her advisers’) inability to gauge the public mood and to empathize with the very “un-British” levels of emotionalism that surrounded the event. In 1997, Diana’s death exposed what looked like a dangerous disconnect between monarch and people. Since then, the monarchy has continued to reinvent and readjust while all the time relying on the Queen as a beloved symbol of continuity.\\xa0 But the task of creating a thoroughly modern monarchy remained a challenge, as the friction between the Royal Family and Harry and Meghan makes clear.\\xa0 The new king has work to do.\\n\\nWhat power did the Queen have and will her successor continue to have the same power? \\n\\nThe monarch’s constitutional powers are in practice rather limited – although they still have significant symbolic importance. It is interesting that among the Queen’s final public duties was to accept the resignation of Boris Johnson as Prime Minister and to ask Liz Truss to assume the job in his stead. We should also ask, however, about the Queen’s symbolic power more generally and whether and how Charles will be able to perpetuate (or even reinvent) the monarchy’s symbolic role in modern British life.\\n\\nWhat is the process for the transfer of power for the monarchy? \\n\\nAs the official notice of the Queen’s death makes clear, Charles became king at the moment his mother died. Over the next weeks, we’ll get to witness the long-scripted series of rituals that will mark the end of one reign and the beginning of the next. A formal proclamation of the new king in his capital is imminent, and this will be followed by a period of mourning in advance of the Queen’s state funeral; and then eventually by Charles’ coronation. \\n\\nOne distinctive feature of the modern British monarchy is its appetite for ceremonial, its use of ancient and ancient-looking rituals and pageants as a primary means of communicating what monarchy means, and what it means to be British. One gauge of what the future might hold will be how successful these ritual performances are in signaling not only continuity and tradition but also a vision for the new king’s reign. When Elizabeth was crowned in 1953, many contemporaries openly asked what the coronation ritual – in essence, the same ritual that was developed and refined in medieval Europe in the 8th, 9th\\xa0and 10th centuries – meant in the modern world of the 1950s. I hope we get a chance to ask similar questions about the coronation of Charles III.\\n\\nWill the change in the monarchy affect the relationship between the UK and other countries and how? \\n\\nThere are already growing signs of discontent within the post-imperial Commonwealth of nations that retained the Queen as head of state [which includes countries from Canada to Australia and places in between]. How many more of these nations, in the absence of the personal affection and admiration for Elizabeth II will now choose to separate themselves from the crown and become republics? \\n\\nWe might also see a political reckoning within Britain itself. The modern monarchy is very much a national symbol, albeit one that has not always (or even often) accurately reflected the more complicated realities of the nation. \\n\\nAt a time of deep social and economic crisis in Britain, we might also wonder whether a renewed focus on monarchy – a symbol of fixed hierarchy, inherited status and deep privilege – will serve to distract or deflect from material problems, or will monarchy itself begin to feel like a jarring anachronism?\\n\\n\\n']\n"
     ]
    }
   ],
   "source": [
    "print(article1)"
   ]
  },
  {
   "cell_type": "markdown",
   "id": "5d8e9d7e",
   "metadata": {},
   "source": [
    "#### Article 2 -"
   ]
  },
  {
   "cell_type": "code",
   "execution_count": 14,
   "id": "3e63e5fc",
   "metadata": {},
   "outputs": [],
   "source": [
    "r1 = requests.get('https://time.com/6212004/queen-elizabeth-republicanism-anti-monarchy/')\n",
    "coverpage = r1.content\n",
    "soup1 = BeautifulSoup(coverpage, 'html5lib')\n",
    "coverpage_news = soup1.find_all('div', class_='article content body clearfix')"
   ]
  },
  {
   "cell_type": "code",
   "execution_count": 15,
   "id": "3ee7cb11",
   "metadata": {},
   "outputs": [
    {
     "data": {
      "text/plain": [
       "1"
      ]
     },
     "execution_count": 15,
     "metadata": {},
     "output_type": "execute_result"
    }
   ],
   "source": [
    "len(coverpage_news)"
   ]
  },
  {
   "cell_type": "code",
   "execution_count": 16,
   "id": "1f7cd2a3",
   "metadata": {},
   "outputs": [
    {
     "data": {
      "text/plain": [
       "'\\n            \\n                  Queen Elizabeth II’s passing has sparked an outpouring of mourning across the world, but in many places, the end of her reign is also raising questions about what the future holds.                  Over a dozen countries recognized the late monarch as their head of state, including Canada, New Zealand, Australia, Belize, Jamaica, Tuvalu, Papua New Guinea and the Solomon Islands. Her death is likely to ignite debate about whether her successor, King Charles III, should fulfill that role. Already, there have been calls for change.                  \\n                    \\n                    \\n                      (function (d, s, n) {\\n                          var js, fjs = d.getElementsByTagName(s)[0];\\n                          js = d.createElement(s);\\n                          js.className = n;\\n                          js.src = \"//player.ex.co/player/88d047ba-8954-4830-a439-6aa7b7c72fb9\";\\n                          fjs.parentNode.insertBefore(js, fjs);\\n                      }(document, \\'script\\', \\'exco-player\\'));\\n                    \\n                                    Adam Bandt, the leader of Australia’s Greens Party, posted condolences to the Queen’s family on Twitter. But he added “Now Australia must move forward,” saying “We need [a] Treaty with First Nations people, and we need to become a Republic.”                  Read More: Queen Elizabeth II’s Death at Balmoral Has Major Implications for Scotland                  \\n                    \\n                                    Katie Pickles, a professor of history at the University of Canterbury in New Zealand, says “As the importance of the monarchy became less important in society, places like New Zealand hung on because they held the Queen personally in such high respect.”                  She tells TIME: “King Charles and Queen Consort Camilla will likely not have the same appeal.”                  \\n                    \\n                                    Cindy McCreery, a senior lecturer in history at the University of Sydney who specializes in monarchy and colonialism, agrees that republican sentiment will be given impetus.                  “I do think that now that the Queen has passed on, that does give republicans in Australia and elsewhere more room to speak openly about the constitutional future and to kind of prepare the path for a republic,” McCreery says.                  \\n                    \\n                      \\n                      \\n                      \\n                        \\n                          \\n                                \\n                                  \\n                                  \\n                                    \\n                                  \\n                                \\n                            \\n                          \\n                            \\n                                People calling for slavery reparations protest outside the entrance of the British High Commission during the visit of the Duke and Duchess of Cambridge in Kingston, Jamaica on March 22, 2022.\\n                                RICARDO MAKYN/AFP via Getty Images\\n                            \\n                          \\n                                    Anti-monarchist sentiment in the Caribbean                  In some countries anti-monarchist sentiment has grown in tandem with racial justice movements, bringing anti-colonialist thinking and conversations on Indigenous rights into the mainstream.                  The Duke and Duchess of Cambridge faced a raft of protests on a trip through the Caribbean in March, with some groups demanding an apology and reparations for slavery. William and Kate cancelled a visit to a cacao farm, the first stop on their tour of Belize, because of protests.                  \\n                    \\n                                    Ahead of their visit to Jamaica, an open letter released by the Advocates Network, and signed by more than 100 local leaders, said: “During her 70 years on the throne, your grandmother has done nothing to redress and atone for the suffering of our ancestors that took place during her reign and/or during the entire period of British trafficking of Africans, enslavement, indentureship and colonization.”                  Read More: How the World Is Responding to News of Queen Elizabeth II’s Death                  According to McCreery, “Particularly countries in the Caribbean, which of course have that very painful legacy of British slavery in the past, I think they are more likely to be among the states that choose to become republics.”                  In June, Jamaica’s Minister of Legal and Constitutional Affairs, Marlene Malahoo Forte, said that the process of transitioning to a republic had “formally commenced.”                   Barbados, once called “Little England” for its tight British ties, became a republic in late 2021.                   \\n                    \\n                      \\n                      \\n                      \\n                        \\n                          \\n                                \\n                                  \\n                                  \\n                                    \\n                                  \\n                                \\n                            \\n                          \\n                            \\n                                A group of republicans protests outside the Town Hall before the arrival of the Duke and Duchess of Cambridge on April 12, 2014 in Hamilton, New Zealand.\\n                                Phil Walter/Getty Images\\n                            \\n                          \\n                                    Republicanism in Australasia                  \\n                    \\n                                    The Australian Republic Movement, which wants an Australian to replace the British King or Queen as the head of state, declined to provide a comment for this article. But in a statement issued after the Queen’s death, it hinted at a political opportunity. “It is unlikely we will ever see a Monarch as respected or admired by the Australian people again,” said Peter FitzSimons, chair of the movement.                  In June 2022, Australia appointed Matt Thistlethwaite, a former republican campaigner, as its first ever assistant minister for the republic, to help oversee the country’s potential transition.                   “We’ve got this unique opportunity with a Queen coming to the end of her reign, for us to now lay the groundwork so that when that does happen in the future, we’re ready to go with a campaign and a chance to really create a truly independent nation,” he told the Sydney Morning Herald in an interview published on Sept. 3.                  Read More: See Colorized Photos of a Young Queen Elizabeth II                  In 2016, then leader of New Zealand’s Labour Party, Andrew Little, said that “the end of the reign of the current monarch would be a good time to debate our constitutional arrangements. Do we still want to have our head of state living in London? Or do we want to do something else? Stand on our own two feet?”                  \\n                    \\n                                    New Zealand’s Prime Minister Jacinda Ardern said in 2021 that she thinks the country will become a republic in her lifetime.                  Rawiri Waititi, a member of New Zealand’s parliament and the co-leader of the Māori Party, said on Twitter on Friday that “the huge vacuum left” by the Queen’s death “will cause debate.”                  One New Zealand republican, who asked not to be named, told TIME that “There’s that very strong feeling of nostalgia with the Queen that doesn’t transfer to her son or grandchildren.”                  “I think this is very much a moment when the discussion about possible moves to become republics will open up,” McCreery concludes. “I think that there was a great sense of restraint during the Queen’s reign.”                  \\n                        \\n                          More Must-Read Stories From TIME\\n                          \\n                        \\n                           \\tLeBron James Could Take Pickleball—Yes, Pickleball—to the Next Level   \\tIt\\'s Going to Be a Lot More Expensive to Heat Your Home This Winter. Here\\'s What To Expect   \\tThe U.S. Might Be the Surprising Determining Factor in the Future of Armenia   \\tRapper Saucy Santana Is Opening a Door For His Community   \\tHere are the Biggest Moments from the TIME100 Leadership Forum and Impact Awards in Singapore   \\tColumn: Russia Wants to Lock Ukraine Back in the Soviet Cellar   \\tAs the Kanjuruhan Tragedy Shows, Indonesia Has Not Resolved Its Long-Standing Problem of Soccer Violence   \\tHere\\'s Everything New on Netflix in October 2022   \\tA New Documentary Series Illuminates the History and Evolution of Queer Horror   \\n                                    Write to Amy Gunia at amy.gunia@time.com.              \\n                \\n                  \\n                            \\n            \\n          '"
      ]
     },
     "execution_count": 16,
     "metadata": {},
     "output_type": "execute_result"
    }
   ],
   "source": [
    "coverpage_news[0].get_text()"
   ]
  },
  {
   "cell_type": "code",
   "execution_count": 17,
   "id": "5284d9aa",
   "metadata": {},
   "outputs": [],
   "source": [
    "article2= []\n",
    "article2.append(coverpage_news[0].get_text())"
   ]
  },
  {
   "cell_type": "markdown",
   "id": "4859eda8",
   "metadata": {},
   "source": [
    "#### Article 3 -"
   ]
  },
  {
   "cell_type": "code",
   "execution_count": 18,
   "id": "085e6906",
   "metadata": {},
   "outputs": [],
   "source": [
    "r1 = requests.get('https://abcnews.go.com/International/death-queen-elizabeth-ii-prompts-debate-monarchys-legacy/story?id=89587093')\n",
    "coverpage = r1.content\n",
    "soup1 = BeautifulSoup(coverpage, 'html5lib')\n",
    "coverpage_news = soup1.find_all('p', class_='fnmMv geuMB alqtB wqIGQ')"
   ]
  },
  {
   "cell_type": "code",
   "execution_count": 19,
   "id": "91a0f4f6",
   "metadata": {},
   "outputs": [
    {
     "data": {
      "text/plain": [
       "33"
      ]
     },
     "execution_count": 19,
     "metadata": {},
     "output_type": "execute_result"
    }
   ],
   "source": [
    "len(coverpage_news)"
   ]
  },
  {
   "cell_type": "code",
   "execution_count": 22,
   "id": "eced232c",
   "metadata": {},
   "outputs": [],
   "source": [
    "article3=[]\n",
    "for i in range(len(coverpage_news)):\n",
    "    article3.append(coverpage_news[i].get_text())"
   ]
  },
  {
   "cell_type": "code",
   "execution_count": 23,
   "id": "ac3951cf",
   "metadata": {},
   "outputs": [
    {
     "name": "stdout",
     "output_type": "stream",
     "text": [
      "['The death of Queen Elizabeth II after a 70-year reign and the ascension of King Charles III to the throne marks the end of an era.', \"With the passing of Britain's longest-reigning sovereign during a period that saw tectonic shifts in geopolitics and social norms, as well as a royal family rocked by scandal, many are now left wondering: what's next for the British monarchy?\", \"Criticism, in particular, about the monarchy's link to colonialism and the lasting injustices it perpetuated -- and waning support among younger Britons,  according to a YouGov poll --  have reignited difficult questions about the future of the monarchy and its purpose in modern times.\", '\"You cannot think of British nationalism, you have to think of British imperial nationalism. And in the center of that is the monarchy,\" said Caroline Elkins, a professor at Harvard University and author of \"Legacy of Violence: A History of the British Empire.\"', \"At the empire's peak around 1921, the British colonized around a quarter of the land on Earth, leading to a description of the empire as one on which the sun never sets.\", 'When Queen Elizabeth II became queen in 1952, Britain ruled over more than 70 territories – many of which Britain would lose or relinquish in struggles for independence, including in deadly conflicts.', \"One of the atrocities that scholars have detailed -- and that critics have again highlighted in the wake of Queen Elizabeth II's passing -- was Kenya's Mau Mau uprising for independence from British rule in the late 1950s.\", 'Some historians estimate that there could have been up to 100,000 people killed in detention camps during the clashes between the Kenya Land and Freedom Army, known as the Mau Mau, and the British authorities, according to Elkin\\'s book, \"Britain\\'s Gulag: The Brutal End of Empire in Kenya.\"', 'According to a class action lawsuit against the U.K. government settled in 2013, thousands of Kenyans raised claims of torture, imprisonment and rape by British colonial forces in concentration camps during the uprising.', '\"The successive prime ministers – from Churchill on down – lied to Parliament, lied to the public, covered all this stuff up,\" said Elkins, noting the monarchy likely had glimpses into the systematic torture under its imperialism.', '\"That said, what\\'s been the monarch\\'s role in perpetuating an image of imperial benevolence?\" Elkins said. \"Pretty huge.\"', 'Many former colonies gained their independence from the British empire not in the distant past, but in the 20th century.', 'India gained its independence in 1947, Kenya in 1963 and Nigeria in 1960. Several countries experienced civil conflicts following their fight for independence due to British interference that reportedly led to thousands of deaths, according to historians.', '“Europe came and divided Africa without taking into consideration the identity, the values, the differences and commonalities of different communities, ethnic entities, and so on,” said Mohamed S. Camara, professor of African Studies at Howard University. He also pointed to examples of this in India. “And we have repercussions of that today.”', \"For some people in those former colonies, Queen Elizabeth II's rule is associated with oppression.\", \"“Whether it's in Africa, or in Southeast Asia … the people whose countries went through that will not forget and would like to see serious change happen,” Camara said.\", '\"I don\\'t think there is any other form of violation of human rights in history that can equal to enslavement,\" he added, \"the transformation of a human being to the property of another man, let alone the transformation of an entire people into the property of another people or another state.\"', 'Ahead of a trip by the Duke and Duchess of Cambridge to the Caribbean and Central America in March of this year to celebrate the queen, some Jamaican leaders demanded slavery reparations and local opposition in Belize forced them to cancel a trip.', 'Some of the countries that make up the Commonwealth have also signaled that they want to drop the monarchy as the head of state to achieve true independence from British rule, which Jamaica is moving toward.', 'They can still be a part of the Commonwealth without the British monarchy as the head.', '“I want to say clearly, as I have said before, that each member’s constitutional arrangement, as republic or monarchy, is purely a matter for each member country to decide,\" said then-Prince Charles during the 2022 Commonwealth Heads of Government Meeting. \"The benefit of long life brings me the experience that arrangements such as these can change, calmly and without rancour.”', 'Though there have been few apologies given from the royal family, the queen did often \"extend a hand\" to opponents of the monarchy, such as in Ireland, when the queen shook the hand of a former Irish Republican Army commander, Elkins said.', \"The IRA fought against British rule and was responsible for the death of the queen's cousin, Lord Louis Mountbatten.\", \"With King Charles III now on the throne, historians say there's potential for the monarchy to make a fresh start in seeking atonement for past injustices and signal a new era for the royal family.\", '\"There\\'s no question that [the monarchy has] benefited financially from the trade of enslaved people. And there\\'s no question that they as an institution benefited enormously from the prestige of the empire,\" Elkins said.', '\"You are the monarch of a multicultural nation that must come to terms with the past,\" she noted of the task facing King Charles III. \"And if you really have a hope for the future of the monarchy, you must solve this.\"', 'Myko Clelland, British Royals Expert at family history platform MyHeritage.com, who worked closely with the Royal Household on the publication of their digitized records, says that even though King Charles III is entering at a vastly different time than his mother, the role of the monarchy remains an outwardly apolitical one.', '\"The constitutional role of the monarchy is separate from politics,\" Clelland said.', 'King Charles III pointed to the changing times in his first speech as king: \"When The Queen came to the throne, Britain and the world were still coping with the privations and aftermath of the Second World War, and still living by the conventions of earlier times.\"', 'He continued, \"In the course of the last 70 years we have seen our society become one of many cultures and many faiths. The institutions of the State have changed in turn.\"', \"King Charles III has been outspoken about politics in a way that past leaders of the monarchy have not. He's made comments through the years taking stances against climate injustice, strict immigration policy, enslavement and more.\", 'However, Clelland predicts King Charles III may not necessarily change the monarch\\'s role as a figurehead intended to be \"the heart and the soul of Britain, not the apparatus, not the machinery or the levers of power.\"', '\"People worry that he might try to meddle in government, but that royal prerogative says that those powers have slipped into history, and that keeping the monarchy above politics is a way that keeps their survival,\" Clelland said. ']\n"
     ]
    }
   ],
   "source": [
    "print(article3)"
   ]
  },
  {
   "cell_type": "code",
   "execution_count": null,
   "id": "b9376f6c",
   "metadata": {},
   "outputs": [],
   "source": []
  }
 ],
 "metadata": {
  "kernelspec": {
   "display_name": "Python 3",
   "language": "python",
   "name": "python3"
  },
  "language_info": {
   "codemirror_mode": {
    "name": "ipython",
    "version": 3
   },
   "file_extension": ".py",
   "mimetype": "text/x-python",
   "name": "python",
   "nbconvert_exporter": "python",
   "pygments_lexer": "ipython3",
   "version": "3.8.8"
  }
 },
 "nbformat": 4,
 "nbformat_minor": 5
}
